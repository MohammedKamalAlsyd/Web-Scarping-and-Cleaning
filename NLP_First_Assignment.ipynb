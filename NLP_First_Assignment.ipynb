{
  "nbformat": 4,
  "nbformat_minor": 0,
  "metadata": {
    "colab": {
      "provenance": []
    },
    "kernelspec": {
      "name": "python3",
      "display_name": "Python 3"
    },
    "language_info": {
      "name": "python"
    }
  },
  "cells": [
    {
      "cell_type": "code",
      "source": [
        "import requests\n",
        "import nltk\n",
        "import re\n",
        "from bs4 import BeautifulSoup\n",
        "from nltk.corpus import stopwords\n",
        "from nltk.stem import PorterStemmer\n",
        "from nltk.tokenize import word_tokenize"
      ],
      "metadata": {
        "id": "6AH5mtSXKVD0"
      },
      "execution_count": null,
      "outputs": []
    },
    {
      "cell_type": "markdown",
      "source": [
        "# Access Website\n"
      ],
      "metadata": {
        "id": "D2Jt6F6kKRnE"
      }
    },
    {
      "cell_type": "code",
      "execution_count": null,
      "metadata": {
        "id": "688nHMr_JDaM"
      },
      "outputs": [],
      "source": [
        "url = \"https://en.wikipedia.org/wiki/Muhammad_Ali_of_Egypt\"\n",
        "\n",
        "# Send a GET request to the URL\n",
        "response = requests.get(url)\n",
        "\n",
        "# Now HTML stored in response.text"
      ]
    },
    {
      "cell_type": "markdown",
      "source": [
        "# Parse Test"
      ],
      "metadata": {
        "id": "7UQv8rQqLoFZ"
      }
    },
    {
      "cell_type": "code",
      "source": [
        "# Parse the HTML content of the page using BeautifulSoup\n",
        "soup = BeautifulSoup(response.text, \"html.parser\")\n",
        "\n",
        "# Find the Class including its Markups like <P>\n",
        "content_div = soup.find(\"div\", class_=\"mw-content-ltr mw-parser-output\")\n",
        "\n",
        "assert content_div is not None, \"Class not found.\""
      ],
      "metadata": {
        "id": "snWKIKZeKtIy"
      },
      "execution_count": null,
      "outputs": []
    },
    {
      "cell_type": "markdown",
      "source": [
        "# Get Desired Text"
      ],
      "metadata": {
        "id": "fhLyUeQjNAYR"
      }
    },
    {
      "cell_type": "code",
      "source": [
        "# Getting Actual Text without HTML markups\n",
        "text = content_div.get_text() if content_div else None\n",
        "\n",
        "# Extract wanted Text\n",
        "start_index = text.find(\"Muhammad Ali[a]\")\n",
        "end_index = text.find(\"Republic of Egypt.\", start_index) # represent index of first occurence\n",
        "end_index += len(\"Republic of Egypt.\") # represent endindex of wanted paragraph\n",
        "\n",
        "desired_text = text[start_index:end_index]\n",
        "print(desired_text)\n"
      ],
      "metadata": {
        "colab": {
          "base_uri": "https://localhost:8080/"
        },
        "id": "UxKvdTi1NDmV",
        "outputId": "8ac3e9ad-96d9-42d4-e966-f43aa0aa3101"
      },
      "execution_count": null,
      "outputs": [
        {
          "output_type": "stream",
          "name": "stdout",
          "text": [
            "Muhammad Ali[a] (4 March 1769 – 2 August 1849) was the Ottoman Albanian[3] governor and de facto ruler of Egypt from 1805 to 1848, considered the founder of modern Egypt. At the height of his rule, he controlled Egypt, Sudan, Hejaz, Najd, the Levant, Crete and parts of Greece.\n",
            "He was a military commander in an Albanian Ottoman force sent to recover Egypt from French occupation under Napoleon. Following Napoleon's withdrawal, Muhammad Ali rose to power through a series of political maneuvers, and in 1805 he was named Wāli (governor) of Egypt and gained the rank of Pasha.\n",
            "As Wāli, Ali attempted to modernize Egypt by instituting dramatic reforms in the military, economic and cultural spheres. He also initiated a violent purge of the Mamluks, consolidating his rule and permanently ending the Mamluk hold over Egypt.\n",
            "Militarily, Ali recaptured the Arabian territories for the sultan, and conquered Sudan of his own accord. His attempt at suppressing the Greek rebellion failed decisively, however, following an intervention by the European powers at Navarino. In 1831, Ali waged war against the sultan, capturing Syria, crossing into Anatolia and directly threatening Constantinople, but the European powers forced him to retreat. After a failed Ottoman invasion of Syria in 1839, he launched another invasion of the Ottoman Empire in 1840; he defeated the Ottomans again and opened the way towards a capture of Constantinople. Faced with another European intervention, he accepted a brokered peace in 1842 and withdrew from the Levant; in return, he and his descendants were granted hereditary rule over Egypt and Sudan. His dynasty would rule Egypt until the revolution of 1952 when King Farouk was overthrown by the Free Officers Movement led by Mohamed Naguib and Gamal Abdel Nasser, establishing the Republic of Egypt.\n"
          ]
        }
      ]
    },
    {
      "cell_type": "markdown",
      "source": [
        "# Text Preprocessing"
      ],
      "metadata": {
        "id": "0GRSGFwrQy_r"
      }
    },
    {
      "cell_type": "markdown",
      "source": [
        "## Removing reference sign [a]"
      ],
      "metadata": {
        "id": "toyHMKXlW0zM"
      }
    },
    {
      "cell_type": "code",
      "source": [
        "cleaned_text = re.sub(r'\\[[^\\]]+\\]', '', desired_text) # removed reference mark like [a]\n",
        "# by breaking pattern first \\[ and \\] represent open brackets\n",
        "# then in [^\\] it match any character except closing bracket ] (it stop before ])\n",
        "# finally we add the closing bracket ] so it try to find any text inside []\n",
        "print(cleaned_text)"
      ],
      "metadata": {
        "colab": {
          "base_uri": "https://localhost:8080/"
        },
        "id": "FG3gkTcENoWp",
        "outputId": "d312a98a-1ef8-4357-97fc-b8b89c6d638f"
      },
      "execution_count": null,
      "outputs": [
        {
          "output_type": "stream",
          "name": "stdout",
          "text": [
            "Muhammad Ali (4 March 1769 – 2 August 1849) was the Ottoman Albanian governor and de facto ruler of Egypt from 1805 to 1848, considered the founder of modern Egypt. At the height of his rule, he controlled Egypt, Sudan, Hejaz, Najd, the Levant, Crete and parts of Greece.\n",
            "He was a military commander in an Albanian Ottoman force sent to recover Egypt from French occupation under Napoleon. Following Napoleon's withdrawal, Muhammad Ali rose to power through a series of political maneuvers, and in 1805 he was named Wāli (governor) of Egypt and gained the rank of Pasha.\n",
            "As Wāli, Ali attempted to modernize Egypt by instituting dramatic reforms in the military, economic and cultural spheres. He also initiated a violent purge of the Mamluks, consolidating his rule and permanently ending the Mamluk hold over Egypt.\n",
            "Militarily, Ali recaptured the Arabian territories for the sultan, and conquered Sudan of his own accord. His attempt at suppressing the Greek rebellion failed decisively, however, following an intervention by the European powers at Navarino. In 1831, Ali waged war against the sultan, capturing Syria, crossing into Anatolia and directly threatening Constantinople, but the European powers forced him to retreat. After a failed Ottoman invasion of Syria in 1839, he launched another invasion of the Ottoman Empire in 1840; he defeated the Ottomans again and opened the way towards a capture of Constantinople. Faced with another European intervention, he accepted a brokered peace in 1842 and withdrew from the Levant; in return, he and his descendants were granted hereditary rule over Egypt and Sudan. His dynasty would rule Egypt until the revolution of 1952 when King Farouk was overthrown by the Free Officers Movement led by Mohamed Naguib and Gamal Abdel Nasser, establishing the Republic of Egypt.\n"
          ]
        }
      ]
    },
    {
      "cell_type": "markdown",
      "source": [
        "# removing symbols & punctuations"
      ],
      "metadata": {
        "id": "KGEhSf2KXQm7"
      }
    },
    {
      "cell_type": "code",
      "source": [
        "# \\w == [a-zA-Z0-9_]    \\s represent space\n",
        "cleaned_text = re.sub(r\"[^\\w\\s]\", \"\", cleaned_text)\n",
        "print(cleaned_text)"
      ],
      "metadata": {
        "colab": {
          "base_uri": "https://localhost:8080/"
        },
        "id": "v5GPjwUbUrNM",
        "outputId": "0927945d-b88c-4be6-fc44-336a62db9ee7"
      },
      "execution_count": null,
      "outputs": [
        {
          "output_type": "stream",
          "name": "stdout",
          "text": [
            "Muhammad Ali 4 March 1769  2 August 1849 was the Ottoman Albanian governor and de facto ruler of Egypt from 1805 to 1848 considered the founder of modern Egypt At the height of his rule he controlled Egypt Sudan Hejaz Najd the Levant Crete and parts of Greece\n",
            "He was a military commander in an Albanian Ottoman force sent to recover Egypt from French occupation under Napoleon Following Napoleons withdrawal Muhammad Ali rose to power through a series of political maneuvers and in 1805 he was named Wāli governor of Egypt and gained the rank of Pasha\n",
            "As Wāli Ali attempted to modernize Egypt by instituting dramatic reforms in the military economic and cultural spheres He also initiated a violent purge of the Mamluks consolidating his rule and permanently ending the Mamluk hold over Egypt\n",
            "Militarily Ali recaptured the Arabian territories for the sultan and conquered Sudan of his own accord His attempt at suppressing the Greek rebellion failed decisively however following an intervention by the European powers at Navarino In 1831 Ali waged war against the sultan capturing Syria crossing into Anatolia and directly threatening Constantinople but the European powers forced him to retreat After a failed Ottoman invasion of Syria in 1839 he launched another invasion of the Ottoman Empire in 1840 he defeated the Ottomans again and opened the way towards a capture of Constantinople Faced with another European intervention he accepted a brokered peace in 1842 and withdrew from the Levant in return he and his descendants were granted hereditary rule over Egypt and Sudan His dynasty would rule Egypt until the revolution of 1952 when King Farouk was overthrown by the Free Officers Movement led by Mohamed Naguib and Gamal Abdel Nasser establishing the Republic of Egypt\n"
          ]
        }
      ]
    },
    {
      "cell_type": "markdown",
      "source": [
        "## Normalize the Data to Lower Case"
      ],
      "metadata": {
        "id": "0Blpd8qYXxR3"
      }
    },
    {
      "cell_type": "code",
      "source": [
        "normalized_text = cleaned_text.lower()\n",
        "print(normalized_text)"
      ],
      "metadata": {
        "colab": {
          "base_uri": "https://localhost:8080/"
        },
        "id": "riZYtIPdXi_-",
        "outputId": "9bdae75e-57ba-4b78-d443-c436ecac1352"
      },
      "execution_count": null,
      "outputs": [
        {
          "output_type": "stream",
          "name": "stdout",
          "text": [
            "muhammad ali 4 march 1769  2 august 1849 was the ottoman albanian governor and de facto ruler of egypt from 1805 to 1848 considered the founder of modern egypt at the height of his rule he controlled egypt sudan hejaz najd the levant crete and parts of greece\n",
            "he was a military commander in an albanian ottoman force sent to recover egypt from french occupation under napoleon following napoleons withdrawal muhammad ali rose to power through a series of political maneuvers and in 1805 he was named wāli governor of egypt and gained the rank of pasha\n",
            "as wāli ali attempted to modernize egypt by instituting dramatic reforms in the military economic and cultural spheres he also initiated a violent purge of the mamluks consolidating his rule and permanently ending the mamluk hold over egypt\n",
            "militarily ali recaptured the arabian territories for the sultan and conquered sudan of his own accord his attempt at suppressing the greek rebellion failed decisively however following an intervention by the european powers at navarino in 1831 ali waged war against the sultan capturing syria crossing into anatolia and directly threatening constantinople but the european powers forced him to retreat after a failed ottoman invasion of syria in 1839 he launched another invasion of the ottoman empire in 1840 he defeated the ottomans again and opened the way towards a capture of constantinople faced with another european intervention he accepted a brokered peace in 1842 and withdrew from the levant in return he and his descendants were granted hereditary rule over egypt and sudan his dynasty would rule egypt until the revolution of 1952 when king farouk was overthrown by the free officers movement led by mohamed naguib and gamal abdel nasser establishing the republic of egypt\n"
          ]
        }
      ]
    },
    {
      "cell_type": "markdown",
      "source": [
        "## Tokenize the data"
      ],
      "metadata": {
        "id": "iwgSLLfHYC2s"
      }
    },
    {
      "cell_type": "code",
      "source": [
        "nltk.download('punkt')\n",
        "tokens = word_tokenize(normalized_text)\n",
        "\n",
        "print(tokens)\n",
        "print(f\"unique words are: {len(set(tokens))}\")\n"
      ],
      "metadata": {
        "colab": {
          "base_uri": "https://localhost:8080/"
        },
        "id": "TNKt_UZvX2p2",
        "outputId": "e9fb6d4a-dd38-4100-c919-071db8d61a0f"
      },
      "execution_count": null,
      "outputs": [
        {
          "output_type": "stream",
          "name": "stdout",
          "text": [
            "['muhammad', 'ali', '4', 'march', '1769', '2', 'august', '1849', 'was', 'the', 'ottoman', 'albanian', 'governor', 'and', 'de', 'facto', 'ruler', 'of', 'egypt', 'from', '1805', 'to', '1848', 'considered', 'the', 'founder', 'of', 'modern', 'egypt', 'at', 'the', 'height', 'of', 'his', 'rule', 'he', 'controlled', 'egypt', 'sudan', 'hejaz', 'najd', 'the', 'levant', 'crete', 'and', 'parts', 'of', 'greece', 'he', 'was', 'a', 'military', 'commander', 'in', 'an', 'albanian', 'ottoman', 'force', 'sent', 'to', 'recover', 'egypt', 'from', 'french', 'occupation', 'under', 'napoleon', 'following', 'napoleons', 'withdrawal', 'muhammad', 'ali', 'rose', 'to', 'power', 'through', 'a', 'series', 'of', 'political', 'maneuvers', 'and', 'in', '1805', 'he', 'was', 'named', 'wāli', 'governor', 'of', 'egypt', 'and', 'gained', 'the', 'rank', 'of', 'pasha', 'as', 'wāli', 'ali', 'attempted', 'to', 'modernize', 'egypt', 'by', 'instituting', 'dramatic', 'reforms', 'in', 'the', 'military', 'economic', 'and', 'cultural', 'spheres', 'he', 'also', 'initiated', 'a', 'violent', 'purge', 'of', 'the', 'mamluks', 'consolidating', 'his', 'rule', 'and', 'permanently', 'ending', 'the', 'mamluk', 'hold', 'over', 'egypt', 'militarily', 'ali', 'recaptured', 'the', 'arabian', 'territories', 'for', 'the', 'sultan', 'and', 'conquered', 'sudan', 'of', 'his', 'own', 'accord', 'his', 'attempt', 'at', 'suppressing', 'the', 'greek', 'rebellion', 'failed', 'decisively', 'however', 'following', 'an', 'intervention', 'by', 'the', 'european', 'powers', 'at', 'navarino', 'in', '1831', 'ali', 'waged', 'war', 'against', 'the', 'sultan', 'capturing', 'syria', 'crossing', 'into', 'anatolia', 'and', 'directly', 'threatening', 'constantinople', 'but', 'the', 'european', 'powers', 'forced', 'him', 'to', 'retreat', 'after', 'a', 'failed', 'ottoman', 'invasion', 'of', 'syria', 'in', '1839', 'he', 'launched', 'another', 'invasion', 'of', 'the', 'ottoman', 'empire', 'in', '1840', 'he', 'defeated', 'the', 'ottomans', 'again', 'and', 'opened', 'the', 'way', 'towards', 'a', 'capture', 'of', 'constantinople', 'faced', 'with', 'another', 'european', 'intervention', 'he', 'accepted', 'a', 'brokered', 'peace', 'in', '1842', 'and', 'withdrew', 'from', 'the', 'levant', 'in', 'return', 'he', 'and', 'his', 'descendants', 'were', 'granted', 'hereditary', 'rule', 'over', 'egypt', 'and', 'sudan', 'his', 'dynasty', 'would', 'rule', 'egypt', 'until', 'the', 'revolution', 'of', '1952', 'when', 'king', 'farouk', 'was', 'overthrown', 'by', 'the', 'free', 'officers', 'movement', 'led', 'by', 'mohamed', 'naguib', 'and', 'gamal', 'abdel', 'nasser', 'establishing', 'the', 'republic', 'of', 'egypt']\n",
            "unique words are: 168\n"
          ]
        },
        {
          "output_type": "stream",
          "name": "stderr",
          "text": [
            "[nltk_data] Downloading package punkt to /root/nltk_data...\n",
            "[nltk_data]   Package punkt is already up-to-date!\n"
          ]
        }
      ]
    },
    {
      "cell_type": "markdown",
      "source": [
        "## Remove Stop Words"
      ],
      "metadata": {
        "id": "8t0emvtsYSuD"
      }
    },
    {
      "cell_type": "code",
      "source": [
        "nltk.download('stopwords')\n",
        "\n",
        "stop_words = stopwords.words('english')\n",
        "filtered_tokens = [token for token in tokens if token not in stop_words]\n",
        "\n",
        "print(filtered_tokens)\n",
        "print(f\"unique words are: {len(set(filtered_tokens))}\")"
      ],
      "metadata": {
        "colab": {
          "base_uri": "https://localhost:8080/"
        },
        "id": "iABCPJxtYSQV",
        "outputId": "3dee4b15-cd68-4b17-bf97-c22557888dc4"
      },
      "execution_count": null,
      "outputs": [
        {
          "output_type": "stream",
          "name": "stdout",
          "text": [
            "['muhammad', 'ali', '4', 'march', '1769', '2', 'august', '1849', 'ottoman', 'albanian', 'governor', 'de', 'facto', 'ruler', 'egypt', '1805', '1848', 'considered', 'founder', 'modern', 'egypt', 'height', 'rule', 'controlled', 'egypt', 'sudan', 'hejaz', 'najd', 'levant', 'crete', 'parts', 'greece', 'military', 'commander', 'albanian', 'ottoman', 'force', 'sent', 'recover', 'egypt', 'french', 'occupation', 'napoleon', 'following', 'napoleons', 'withdrawal', 'muhammad', 'ali', 'rose', 'power', 'series', 'political', 'maneuvers', '1805', 'named', 'wāli', 'governor', 'egypt', 'gained', 'rank', 'pasha', 'wāli', 'ali', 'attempted', 'modernize', 'egypt', 'instituting', 'dramatic', 'reforms', 'military', 'economic', 'cultural', 'spheres', 'also', 'initiated', 'violent', 'purge', 'mamluks', 'consolidating', 'rule', 'permanently', 'ending', 'mamluk', 'hold', 'egypt', 'militarily', 'ali', 'recaptured', 'arabian', 'territories', 'sultan', 'conquered', 'sudan', 'accord', 'attempt', 'suppressing', 'greek', 'rebellion', 'failed', 'decisively', 'however', 'following', 'intervention', 'european', 'powers', 'navarino', '1831', 'ali', 'waged', 'war', 'sultan', 'capturing', 'syria', 'crossing', 'anatolia', 'directly', 'threatening', 'constantinople', 'european', 'powers', 'forced', 'retreat', 'failed', 'ottoman', 'invasion', 'syria', '1839', 'launched', 'another', 'invasion', 'ottoman', 'empire', '1840', 'defeated', 'ottomans', 'opened', 'way', 'towards', 'capture', 'constantinople', 'faced', 'another', 'european', 'intervention', 'accepted', 'brokered', 'peace', '1842', 'withdrew', 'levant', 'return', 'descendants', 'granted', 'hereditary', 'rule', 'egypt', 'sudan', 'dynasty', 'would', 'rule', 'egypt', 'revolution', '1952', 'king', 'farouk', 'overthrown', 'free', 'officers', 'movement', 'led', 'mohamed', 'naguib', 'gamal', 'abdel', 'nasser', 'establishing', 'republic', 'egypt']\n",
            "unique words are: 139\n"
          ]
        },
        {
          "output_type": "stream",
          "name": "stderr",
          "text": [
            "[nltk_data] Downloading package stopwords to /root/nltk_data...\n",
            "[nltk_data]   Package stopwords is already up-to-date!\n"
          ]
        }
      ]
    },
    {
      "cell_type": "markdown",
      "source": [
        "# Stemming the Data"
      ],
      "metadata": {
        "id": "DTdkZFkLYQFi"
      }
    },
    {
      "cell_type": "code",
      "source": [
        "# Create a Porter Stemmer instance\n",
        "porter_stemmer = PorterStemmer()\n",
        "\n",
        "# Use the instance\n",
        "stemming_tokens = [porter_stemmer.stem(token) for token in filtered_tokens]\n",
        "\n",
        "print(stemming_tokens)\n",
        "print(f\"unique words are: {len(set(stemming_tokens))}\")"
      ],
      "metadata": {
        "colab": {
          "base_uri": "https://localhost:8080/"
        },
        "id": "Na92md8GYGt9",
        "outputId": "56eccf43-0ec2-4912-e713-3cc76028b668"
      },
      "execution_count": null,
      "outputs": [
        {
          "output_type": "stream",
          "name": "stdout",
          "text": [
            "['muhammad', 'ali', '4', 'march', '1769', '2', 'august', '1849', 'ottoman', 'albanian', 'governor', 'de', 'facto', 'ruler', 'egypt', '1805', '1848', 'consid', 'founder', 'modern', 'egypt', 'height', 'rule', 'control', 'egypt', 'sudan', 'hejaz', 'najd', 'levant', 'crete', 'part', 'greec', 'militari', 'command', 'albanian', 'ottoman', 'forc', 'sent', 'recov', 'egypt', 'french', 'occup', 'napoleon', 'follow', 'napoleon', 'withdraw', 'muhammad', 'ali', 'rose', 'power', 'seri', 'polit', 'maneuv', '1805', 'name', 'wāli', 'governor', 'egypt', 'gain', 'rank', 'pasha', 'wāli', 'ali', 'attempt', 'modern', 'egypt', 'institut', 'dramat', 'reform', 'militari', 'econom', 'cultur', 'sphere', 'also', 'initi', 'violent', 'purg', 'mamluk', 'consolid', 'rule', 'perman', 'end', 'mamluk', 'hold', 'egypt', 'militarili', 'ali', 'recaptur', 'arabian', 'territori', 'sultan', 'conquer', 'sudan', 'accord', 'attempt', 'suppress', 'greek', 'rebellion', 'fail', 'decis', 'howev', 'follow', 'intervent', 'european', 'power', 'navarino', '1831', 'ali', 'wage', 'war', 'sultan', 'captur', 'syria', 'cross', 'anatolia', 'directli', 'threaten', 'constantinopl', 'european', 'power', 'forc', 'retreat', 'fail', 'ottoman', 'invas', 'syria', '1839', 'launch', 'anoth', 'invas', 'ottoman', 'empir', '1840', 'defeat', 'ottoman', 'open', 'way', 'toward', 'captur', 'constantinopl', 'face', 'anoth', 'european', 'intervent', 'accept', 'broker', 'peac', '1842', 'withdrew', 'levant', 'return', 'descend', 'grant', 'hereditari', 'rule', 'egypt', 'sudan', 'dynasti', 'would', 'rule', 'egypt', 'revolut', '1952', 'king', 'farouk', 'overthrown', 'free', 'offic', 'movement', 'led', 'moham', 'naguib', 'gamal', 'abdel', 'nasser', 'establish', 'republ', 'egypt']\n",
            "unique words are: 131\n"
          ]
        }
      ]
    },
    {
      "cell_type": "markdown",
      "source": [
        "## Final Output"
      ],
      "metadata": {
        "id": "fDI_G6QJYa5M"
      }
    },
    {
      "cell_type": "code",
      "source": [
        "filtered_tokens"
      ],
      "metadata": {
        "colab": {
          "base_uri": "https://localhost:8080/"
        },
        "id": "cCQoMK9cYcpw",
        "outputId": "54c8ade8-06c6-4609-df3a-08920372ad80"
      },
      "execution_count": null,
      "outputs": [
        {
          "output_type": "execute_result",
          "data": {
            "text/plain": [
              "['muhammad',\n",
              " 'ali',\n",
              " '4',\n",
              " 'march',\n",
              " '1769',\n",
              " '2',\n",
              " 'august',\n",
              " '1849',\n",
              " 'ottoman',\n",
              " 'albanian',\n",
              " 'governor',\n",
              " 'de',\n",
              " 'facto',\n",
              " 'ruler',\n",
              " 'egypt',\n",
              " '1805',\n",
              " '1848',\n",
              " 'considered',\n",
              " 'founder',\n",
              " 'modern',\n",
              " 'egypt',\n",
              " 'height',\n",
              " 'rule',\n",
              " 'controlled',\n",
              " 'egypt',\n",
              " 'sudan',\n",
              " 'hejaz',\n",
              " 'najd',\n",
              " 'levant',\n",
              " 'crete',\n",
              " 'parts',\n",
              " 'greece',\n",
              " 'military',\n",
              " 'commander',\n",
              " 'albanian',\n",
              " 'ottoman',\n",
              " 'force',\n",
              " 'sent',\n",
              " 'recover',\n",
              " 'egypt',\n",
              " 'french',\n",
              " 'occupation',\n",
              " 'napoleon',\n",
              " 'following',\n",
              " 'napoleons',\n",
              " 'withdrawal',\n",
              " 'muhammad',\n",
              " 'ali',\n",
              " 'rose',\n",
              " 'power',\n",
              " 'series',\n",
              " 'political',\n",
              " 'maneuvers',\n",
              " '1805',\n",
              " 'named',\n",
              " 'wāli',\n",
              " 'governor',\n",
              " 'egypt',\n",
              " 'gained',\n",
              " 'rank',\n",
              " 'pasha',\n",
              " 'wāli',\n",
              " 'ali',\n",
              " 'attempted',\n",
              " 'modernize',\n",
              " 'egypt',\n",
              " 'instituting',\n",
              " 'dramatic',\n",
              " 'reforms',\n",
              " 'military',\n",
              " 'economic',\n",
              " 'cultural',\n",
              " 'spheres',\n",
              " 'also',\n",
              " 'initiated',\n",
              " 'violent',\n",
              " 'purge',\n",
              " 'mamluks',\n",
              " 'consolidating',\n",
              " 'rule',\n",
              " 'permanently',\n",
              " 'ending',\n",
              " 'mamluk',\n",
              " 'hold',\n",
              " 'egypt',\n",
              " 'militarily',\n",
              " 'ali',\n",
              " 'recaptured',\n",
              " 'arabian',\n",
              " 'territories',\n",
              " 'sultan',\n",
              " 'conquered',\n",
              " 'sudan',\n",
              " 'accord',\n",
              " 'attempt',\n",
              " 'suppressing',\n",
              " 'greek',\n",
              " 'rebellion',\n",
              " 'failed',\n",
              " 'decisively',\n",
              " 'however',\n",
              " 'following',\n",
              " 'intervention',\n",
              " 'european',\n",
              " 'powers',\n",
              " 'navarino',\n",
              " '1831',\n",
              " 'ali',\n",
              " 'waged',\n",
              " 'war',\n",
              " 'sultan',\n",
              " 'capturing',\n",
              " 'syria',\n",
              " 'crossing',\n",
              " 'anatolia',\n",
              " 'directly',\n",
              " 'threatening',\n",
              " 'constantinople',\n",
              " 'european',\n",
              " 'powers',\n",
              " 'forced',\n",
              " 'retreat',\n",
              " 'failed',\n",
              " 'ottoman',\n",
              " 'invasion',\n",
              " 'syria',\n",
              " '1839',\n",
              " 'launched',\n",
              " 'another',\n",
              " 'invasion',\n",
              " 'ottoman',\n",
              " 'empire',\n",
              " '1840',\n",
              " 'defeated',\n",
              " 'ottomans',\n",
              " 'opened',\n",
              " 'way',\n",
              " 'towards',\n",
              " 'capture',\n",
              " 'constantinople',\n",
              " 'faced',\n",
              " 'another',\n",
              " 'european',\n",
              " 'intervention',\n",
              " 'accepted',\n",
              " 'brokered',\n",
              " 'peace',\n",
              " '1842',\n",
              " 'withdrew',\n",
              " 'levant',\n",
              " 'return',\n",
              " 'descendants',\n",
              " 'granted',\n",
              " 'hereditary',\n",
              " 'rule',\n",
              " 'egypt',\n",
              " 'sudan',\n",
              " 'dynasty',\n",
              " 'would',\n",
              " 'rule',\n",
              " 'egypt',\n",
              " 'revolution',\n",
              " '1952',\n",
              " 'king',\n",
              " 'farouk',\n",
              " 'overthrown',\n",
              " 'free',\n",
              " 'officers',\n",
              " 'movement',\n",
              " 'led',\n",
              " 'mohamed',\n",
              " 'naguib',\n",
              " 'gamal',\n",
              " 'abdel',\n",
              " 'nasser',\n",
              " 'establishing',\n",
              " 'republic',\n",
              " 'egypt']"
            ]
          },
          "metadata": {},
          "execution_count": 22
        }
      ]
    },
    {
      "cell_type": "code",
      "source": [
        "count = 0\n",
        "words = []\n",
        "for word in filtered_tokens:\n",
        "  if len(word)<3:\n",
        "    words.append(word)\n",
        "    count+=1"
      ],
      "metadata": {
        "id": "vCJ9Rb-a7-fX"
      },
      "execution_count": null,
      "outputs": []
    },
    {
      "cell_type": "code",
      "source": [
        "print(words)\n",
        "print(count)"
      ],
      "metadata": {
        "colab": {
          "base_uri": "https://localhost:8080/"
        },
        "id": "jMYLoGOm8VNh",
        "outputId": "57eb1041-00a7-44ed-f395-5ab291e08654"
      },
      "execution_count": null,
      "outputs": [
        {
          "output_type": "stream",
          "name": "stdout",
          "text": [
            "['4', '2', 'de']\n",
            "3\n"
          ]
        }
      ]
    },
    {
      "cell_type": "code",
      "source": [],
      "metadata": {
        "id": "6qxsCmK18Z0m"
      },
      "execution_count": null,
      "outputs": []
    }
  ]
}